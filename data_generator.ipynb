{
 "cells": [
  {
   "cell_type": "markdown",
   "id": "d894546b",
   "metadata": {},
   "source": [
    "# Data Generator"
   ]
  },
  {
   "cell_type": "code",
   "execution_count": 48,
   "id": "35e6f0a9",
   "metadata": {},
   "outputs": [],
   "source": [
    "import numpy as np\n",
    "import pandas as pd"
   ]
  },
  {
   "cell_type": "code",
   "execution_count": 49,
   "id": "89c26142",
   "metadata": {},
   "outputs": [],
   "source": [
    "N_points = 50000\n",
    "path = 'Data/'"
   ]
  },
  {
   "cell_type": "markdown",
   "id": "23bfec41",
   "metadata": {},
   "source": [
    "## Generate Plane embedded in $\\mathbb{R}^{2}$"
   ]
  },
  {
   "cell_type": "code",
   "execution_count": 50,
   "id": "b3a672c5",
   "metadata": {},
   "outputs": [],
   "source": [
    "save_path = ''.join((path, 'R2/data.csv'))\n",
    "\n",
    "x1 = np.random.uniform(0,2, N_points)\n",
    "x2 = np.random.uniform(0,2, N_points)\n",
    "x3 = np.zeros(N_points)\n",
    "    \n",
    "df = np.vstack((x1, x2, x3))\n",
    "pd.DataFrame(df).to_csv(save_path)"
   ]
  },
  {
   "cell_type": "markdown",
   "id": "8505b359",
   "metadata": {},
   "source": [
    "## Generate Data Circle embedded in $\\mathbb{R}^{3}$"
   ]
  },
  {
   "cell_type": "code",
   "execution_count": 51,
   "id": "75814879",
   "metadata": {},
   "outputs": [],
   "source": [
    "save_path = ''.join((path, 'CircleR3/data.csv'))\n",
    "\n",
    "theta = np.random.uniform(0,2*np.pi,N_points)\n",
    "x1 = np.cos(theta)\n",
    "x2 = np.sin(theta)\n",
    "x3 = np.zeros(N_points)\n",
    "    \n",
    "df = np.vstack((x1, x2, x3))\n",
    "pd.DataFrame(df).to_csv(save_path)"
   ]
  },
  {
   "cell_type": "markdown",
   "id": "adee3713",
   "metadata": {},
   "source": [
    "## Generate Data Circle embedded in $\\mathbb{R}^{2}$"
   ]
  },
  {
   "cell_type": "code",
   "execution_count": 44,
   "id": "91149e1a",
   "metadata": {},
   "outputs": [],
   "source": [
    "save_path = ''.join((path, 'CircleR2/data.csv'))\n",
    "\n",
    "theta = np.random.uniform(0,2*np.pi,N_points)\n",
    "x1 = np.cos(theta)\n",
    "x2 = np.sin(theta)\n",
    "    \n",
    "df = np.vstack((x1, x2))\n",
    "pd.DataFrame(df).to_csv(save_path)"
   ]
  },
  {
   "cell_type": "markdown",
   "id": "b5ce1249",
   "metadata": {},
   "source": [
    "## Generate Data for $\\mathbb{S}^{2}$ embedded in $\\mathbb{R}^{3}$"
   ]
  },
  {
   "cell_type": "code",
   "execution_count": 45,
   "id": "64f00e73",
   "metadata": {},
   "outputs": [],
   "source": [
    "save_path = ''.join((path, 'S2/data.csv'))\n",
    "\n",
    "theta = np.random.uniform(0,2*np.pi,N_points)\n",
    "phi = np.random.uniform(0,np.pi,N_points)\n",
    "x1 = np.cos(theta)*np.sin(phi)\n",
    "x2 = np.sin(theta)*np.sin(phi)\n",
    "x3 = np.cos(phi)\n",
    "    \n",
    "df = np.vstack((x1, x2, x3))\n",
    "pd.DataFrame(df).to_csv(save_path)"
   ]
  },
  {
   "cell_type": "markdown",
   "id": "d577bb27",
   "metadata": {},
   "source": [
    "## Generate Data for Hyperolic Paraboloid embedded in $\\mathbb{R}^{3}$"
   ]
  },
  {
   "cell_type": "code",
   "execution_count": 46,
   "id": "8ae24320",
   "metadata": {},
   "outputs": [],
   "source": [
    "save_path = ''.join((path, 'hyperbolic_paraboloid/data.csv'))\n",
    "\n",
    "x1 = np.random.uniform(-2,2, N_points)\n",
    "x2 = np.random.uniform(-2,2, N_points)\n",
    "x3 = x1**2-x2**2\n",
    "    \n",
    "df = np.vstack((x1, x2, x3))\n",
    "pd.DataFrame(df).to_csv(save_path)"
   ]
  },
  {
   "cell_type": "markdown",
   "id": "17f5ef5c",
   "metadata": {},
   "source": [
    "## Generate Data for Paraboloid embedded in $\\mathbb{R}^{3}$"
   ]
  },
  {
   "cell_type": "code",
   "execution_count": 47,
   "id": "32ed7450",
   "metadata": {},
   "outputs": [],
   "source": [
    "save_path = ''.join((path, 'paraboloid/data.csv'))\n",
    "\n",
    "x1 = np.random.uniform(-2,2, N_points)\n",
    "x2 = np.random.uniform(-2,2, N_points)\n",
    "x3 = x1**2+x2**2\n",
    "    \n",
    "df = np.vstack((x1, x2, x3))\n",
    "pd.DataFrame(df).to_csv(save_path)"
   ]
  }
 ],
 "metadata": {
  "kernelspec": {
   "display_name": "Python 3 (ipykernel)",
   "language": "python",
   "name": "python3"
  },
  "language_info": {
   "codemirror_mode": {
    "name": "ipython",
    "version": 3
   },
   "file_extension": ".py",
   "mimetype": "text/x-python",
   "name": "python",
   "nbconvert_exporter": "python",
   "pygments_lexer": "ipython3",
   "version": "3.9.13"
  }
 },
 "nbformat": 4,
 "nbformat_minor": 5
}
